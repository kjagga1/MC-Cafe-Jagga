{
 "cells": [
  {
   "cell_type": "code",
   "execution_count": null,
   "id": "332938e8",
   "metadata": {},
   "outputs": [],
   "source": [
    "# MC Cafe\n",
    "#Espresso - $1.50\n",
    "#Americano - $2.00\n",
    "#Caffe latte - $2.25\n",
    "#Mocha - $2.25\n",
    "#Cappucino - $2.50\n",
    "#Macchiato - $2.50\n",
    "\n",
    "#greet the customers by saying, \"Welcome to MC Cafe!\" \n",
    "#would like to see the menu (yes or no)\n",
    "#display the menu items and prices (yes or no)\n",
    "#would like to order (yes or no)\n",
    "#prompt the customer to enter an item and the quantity that they want\n",
    "#ask them if they would like to order another item (yes or no)\n",
    "#display an order receipt that lists the items that they ordered and the quantity\n",
    "#Then at the bottom of the receipt, display the subtotal (the amount of the item before tax)\n",
    "#the amount in sales tax (our business is in Maryland, so state tax is 6%)\n",
    "#grand total (subtotal plus sales tax)\n",
    "#display a message to our customers saying, \"Thank you for visiting MC Cafe!\"\n"
   ]
  },
  {
   "cell_type": "code",
   "execution_count": 41,
   "id": "bbbf13d4",
   "metadata": {},
   "outputs": [],
   "source": [
    "def menu()\n",
    "    print(\"[1] option 1\")\n",
    "    print(\"[2] option 2\")\n",
    "    print(\"[3] option 3\")\n",
    "    print(\"[4] option 4\")\n",
    "    print(\"[5] option 5\")\n",
    "    print(\"[0] Exit the program.\")\n"
   ]
  },
  {
   "cell_type": "code",
   "execution_count": null,
   "id": "62b5af65",
   "metadata": {},
   "outputs": [],
   "source": [
    "orders = []\n",
    "def coffee_bot():\n",
    "    welcome_message()\n",
    "    order_taking(orders)\n",
    "    receipt(orders)\n",
    "def welcome_message():\n",
    "    print(\"Welcome to MC Cafe! \\n\\nwould like to see the menu.\")"
   ]
  },
  {
   "cell_type": "markdown",
   "id": "e8e2d51b",
   "metadata": {},
   "source": [
    "drinks = {\n",
    "    'Espresso - 1.50,\n",
    "    'Americano - 2.00,\n",
    "    'Caffe_latte - 2.25,\n",
    "    'Mocha - 2.25,\n",
    "    'Cappucino - 2.50,\n",
    "    'Macchiato - 2.50,\n",
    "}\n",
    "\n",
    "Pastries = {\n",
    "    'Croissant - 5.50,\n",
    "    'Cinnamon roll - 4.50,\n",
    "    'Banana bread - 4.25,\n",
    "    'Pumpkin bread - 3.75,\n",
    "    'Sticky bun - 4.25,\n",
    "    'Apple turnover - 3.75,\n",
    "    \n",
    "}\n",
    "tax = 0.06\n",
    "\n",
    "inp = input('Enter the names of the drinks, separated by commas with space: ').split(', ')\n",
    "\n",
    "[print('We don\\'t have {0}'.format(x)) for x in inp if x not in drinks]\n",
    "price = sum([drinks[x] for x in inp if x in drinks])\n",
    "price += round(price * tax, 2)\n",
    "\n",
    "print('Total price: {0}'.format(price))"
   ]
  },
  {
   "cell_type": "code",
   "execution_count": null,
   "id": "840491d7",
   "metadata": {},
   "outputs": [],
   "source": []
  },
  {
   "cell_type": "code",
   "execution_count": null,
   "id": "9bc417e1",
   "metadata": {},
   "outputs": [],
   "source": []
  }
 ],
 "metadata": {
  "kernelspec": {
   "display_name": "Python 3",
   "language": "python",
   "name": "python3"
  },
  "language_info": {
   "codemirror_mode": {
    "name": "ipython",
    "version": 3
   },
   "file_extension": ".py",
   "mimetype": "text/x-python",
   "name": "python",
   "nbconvert_exporter": "python",
   "pygments_lexer": "ipython3",
   "version": "3.8.8"
  }
 },
 "nbformat": 4,
 "nbformat_minor": 5
}
